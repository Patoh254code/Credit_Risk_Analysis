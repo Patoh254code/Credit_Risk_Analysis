{
 "cells": [
  {
   "cell_type": "markdown",
   "id": "f5b52234",
   "metadata": {},
   "source": [
    "# **Project Title: Credit Risk Analysis For Loan Default**\n",
    "\n",
    "# **Author:** Okoiti Patrice"
   ]
  },
  {
   "cell_type": "markdown",
   "id": "87174e61",
   "metadata": {},
   "source": [
    "\n",
    "## **1.0 Business Understanding**\n",
    "\n",
    "In the financial services industry, credit risk represents one of the most critical areas of concern for banks and lending institutions. The loan defaults can significantly impact a financial institution's profitability and stability. With growing access to personal financial and demographic data, banks have an opportunity to leverage data-driven approaches to better assess creditworthiness and reduce default rates. This project aims to analyze historical loan data to identify factors associated with loan defaults and build a predictive model to improve credit risk assessment. By doing so, the institution can strengthen its lending strategies, minimize losses, and ensure better portfolio health..\n",
    "\n",
    "## **1.1 Challenges**\n",
    "\n",
    "Key challenges include:\n",
    "\n",
    "- Understanding the profile of borrowers who are likely to default.\n",
    "- Determining how demographic features (age, gender, education) and loan purpose correlate with credit risk.\n",
    "- Identifying which variables most influence loan default.\n",
    "- Developing a robust and interpretable classification model with high predictive accuracy of atleast 80%.\n",
    "- Balancing predictive performance with regulatory and ethical considerations such as fairness and explainability.\n",
    "\n",
    "## **1.2 Proposed Solution**\n",
    "\n",
    "Conduct a comprehensive analysis of historical bank loan data to:\n",
    "- Explore and visualize differences in demographic and loan characteristics between good (non-defaulting) and bad (defaulting) loans.\n",
    "- Examine the relationship between interest rates and loan defaults to understand how pricing might reflect or influence credit risk.\n",
    "- Apply feature selection and machine learning techniques to identify key predictors of default.\n",
    "- Train and evaluate multiple classification models, selecting the best-performing one based on accuracy, precision, recall, and AUC-ROC metrics.\n",
    "- Provide actionable insights and recommendations for improving credit risk assessment policies.\n",
    "\n",
    "\n",
    "\n",
    "## **1.3 Conclusion**\n",
    "\n",
    "By leveraging credit data, banks can proactively identify high-risk borrowers, price loans more appropriately, and improve approval decisions. This project will help develop a predictive model and provide strategic recommendations that reduce default rates and optimize loan portfolio performance, ensuring more secure and data-informed lending practices.\n",
    "\n",
    "## **1.4 Problem Statement**\n",
    "\n",
    "Mambo Leo commercial bank seeks to improve its ability to assess the creditworthiness of loan applicants to reduce default risk. The current risk assessment process is insufficient and relies heavily on manual checks and scoring models. The bank wants to use historical loan data to identify key risk indicators and build a predictive model that can accurately classify applicants as likely to default or not. \n",
    "\n",
    "## **1.5 Objectives**\n",
    "\n",
    "1. To explore the characteristics of good and bad loans based on borrower demographics (age, gender, education) and loan purpose.\n",
    "2. To analyze the relationship between interest rates and the likelihood of loan default.\n",
    "3. To identify the most influential features contributing to credit risk.\n",
    "4. To build and evaluate a predictive classification model that achieves an accuracy of at least 80% in identifying potential defaulters."
   ]
  },
  {
   "cell_type": "markdown",
   "id": "22c98315",
   "metadata": {},
   "source": [
    "## **2.0 Data Undertanding**\n",
    "\n",
    "### **2.1 Data Source**\n",
    "The dataset contains anonymized bank loan applications information from kaggle, https://www.kaggle.com/datasets/udaymalviya/bank-loan-data/data, detailing revelant borrower information and loan performance indicators.\n",
    "\n",
    "### **2.2 column description**\n",
    "Key features include:\n",
    "\n",
    "1. **Demographics**\n",
    "- `person_age`: Age of the applicant (in years).\n",
    "- `person_gender`: Gender of the applicant (male, female).\n",
    "- `person_education`: Educational background (High School, Bachelor, Master, etc.).\n",
    "\n",
    "2. **Financial**\n",
    "- `person_income`: Annual income of the applicant (in USD).\n",
    "- `person_emp_exp`: Years of employment experience.\n",
    "- `person_home_ownership`: Type of home ownership (RENT, OWN, MORTGAGE).\n",
    "\n",
    "3. **Loan Details**\n",
    "- `loan_amnt`: Loan amount requested (in USD).\n",
    "- `loan_intent`: Purpose of the loan (PERSONAL, EDUCATION, MEDICAL, etc.).\n",
    "- `loan_int_rate`: Interest rate on the loan (percentage).\n",
    "- `loan_percent_income`: Ratio of loan amount to income.\n",
    "\n",
    "4. **Credit History**\n",
    "- `cb_person_cred_hist_length`: Length of the applicant's credit history (in years).\n",
    "- `credit_score`: Credit score of the applicant.\n",
    "- `previous_loan_defaults_on_file`: Whether the applicant has previous loan defaults (Yes or No).\n",
    "\n",
    "3. **Target Variable**\n",
    "- `loan_status`: 1 if the loan was repaid successfully, 0 if the applicant defaulted.\n"
   ]
  },
  {
   "cell_type": "markdown",
   "id": "6a3be637",
   "metadata": {},
   "source": [
    "### **2.3 Exploratory Data Analysis**"
   ]
  },
  {
   "cell_type": "code",
   "execution_count": 41,
   "id": "f4c65885",
   "metadata": {},
   "outputs": [],
   "source": [
    "# import important libraries\n",
    "import pandas as pd\n",
    "import numpy as np\n",
    "import matplotlib.pyplot as plt\n",
    "%matplotlib inline\n",
    "import seaborn as sns\n",
    "from sklearn.model_selection import train_test_split\n",
    "from sklearn.preprocessing import MinMaxScaler\n",
    "from sklearn.linear_model import LogisticRegression\n",
    "from sklearn.tree import DecisionTreeClassifier\n",
    "from sklearn.metrics import classification_report, roc_curve, auc, confusion_matrix\n",
    "from imblearn.over_sampling import SMOTE\n",
    "import category_encoders as ce"
   ]
  },
  {
   "cell_type": "code",
   "execution_count": 3,
   "id": "cb534451",
   "metadata": {},
   "outputs": [
    {
     "data": {
      "text/html": [
       "<div>\n",
       "<style scoped>\n",
       "    .dataframe tbody tr th:only-of-type {\n",
       "        vertical-align: middle;\n",
       "    }\n",
       "\n",
       "    .dataframe tbody tr th {\n",
       "        vertical-align: top;\n",
       "    }\n",
       "\n",
       "    .dataframe thead th {\n",
       "        text-align: right;\n",
       "    }\n",
       "</style>\n",
       "<table border=\"1\" class=\"dataframe\">\n",
       "  <thead>\n",
       "    <tr style=\"text-align: right;\">\n",
       "      <th></th>\n",
       "      <th>person_age</th>\n",
       "      <th>person_gender</th>\n",
       "      <th>person_education</th>\n",
       "      <th>person_income</th>\n",
       "      <th>person_emp_exp</th>\n",
       "      <th>person_home_ownership</th>\n",
       "      <th>loan_amnt</th>\n",
       "      <th>loan_intent</th>\n",
       "      <th>loan_int_rate</th>\n",
       "      <th>loan_percent_income</th>\n",
       "      <th>cb_person_cred_hist_length</th>\n",
       "      <th>credit_score</th>\n",
       "      <th>previous_loan_defaults_on_file</th>\n",
       "      <th>loan_status</th>\n",
       "    </tr>\n",
       "  </thead>\n",
       "  <tbody>\n",
       "    <tr>\n",
       "      <th>0</th>\n",
       "      <td>22.0</td>\n",
       "      <td>female</td>\n",
       "      <td>Master</td>\n",
       "      <td>71948.0</td>\n",
       "      <td>0</td>\n",
       "      <td>RENT</td>\n",
       "      <td>35000.0</td>\n",
       "      <td>PERSONAL</td>\n",
       "      <td>16.02</td>\n",
       "      <td>0.49</td>\n",
       "      <td>3.0</td>\n",
       "      <td>561</td>\n",
       "      <td>No</td>\n",
       "      <td>1</td>\n",
       "    </tr>\n",
       "    <tr>\n",
       "      <th>1</th>\n",
       "      <td>21.0</td>\n",
       "      <td>female</td>\n",
       "      <td>High School</td>\n",
       "      <td>12282.0</td>\n",
       "      <td>0</td>\n",
       "      <td>OWN</td>\n",
       "      <td>1000.0</td>\n",
       "      <td>EDUCATION</td>\n",
       "      <td>11.14</td>\n",
       "      <td>0.08</td>\n",
       "      <td>2.0</td>\n",
       "      <td>504</td>\n",
       "      <td>Yes</td>\n",
       "      <td>0</td>\n",
       "    </tr>\n",
       "    <tr>\n",
       "      <th>2</th>\n",
       "      <td>25.0</td>\n",
       "      <td>female</td>\n",
       "      <td>High School</td>\n",
       "      <td>12438.0</td>\n",
       "      <td>3</td>\n",
       "      <td>MORTGAGE</td>\n",
       "      <td>5500.0</td>\n",
       "      <td>MEDICAL</td>\n",
       "      <td>12.87</td>\n",
       "      <td>0.44</td>\n",
       "      <td>3.0</td>\n",
       "      <td>635</td>\n",
       "      <td>No</td>\n",
       "      <td>1</td>\n",
       "    </tr>\n",
       "    <tr>\n",
       "      <th>3</th>\n",
       "      <td>23.0</td>\n",
       "      <td>female</td>\n",
       "      <td>Bachelor</td>\n",
       "      <td>79753.0</td>\n",
       "      <td>0</td>\n",
       "      <td>RENT</td>\n",
       "      <td>35000.0</td>\n",
       "      <td>MEDICAL</td>\n",
       "      <td>15.23</td>\n",
       "      <td>0.44</td>\n",
       "      <td>2.0</td>\n",
       "      <td>675</td>\n",
       "      <td>No</td>\n",
       "      <td>1</td>\n",
       "    </tr>\n",
       "    <tr>\n",
       "      <th>4</th>\n",
       "      <td>24.0</td>\n",
       "      <td>male</td>\n",
       "      <td>Master</td>\n",
       "      <td>66135.0</td>\n",
       "      <td>1</td>\n",
       "      <td>RENT</td>\n",
       "      <td>35000.0</td>\n",
       "      <td>MEDICAL</td>\n",
       "      <td>14.27</td>\n",
       "      <td>0.53</td>\n",
       "      <td>4.0</td>\n",
       "      <td>586</td>\n",
       "      <td>No</td>\n",
       "      <td>1</td>\n",
       "    </tr>\n",
       "  </tbody>\n",
       "</table>\n",
       "</div>"
      ],
      "text/plain": [
       "   person_age person_gender person_education  person_income  person_emp_exp  \\\n",
       "0        22.0        female           Master        71948.0               0   \n",
       "1        21.0        female      High School        12282.0               0   \n",
       "2        25.0        female      High School        12438.0               3   \n",
       "3        23.0        female         Bachelor        79753.0               0   \n",
       "4        24.0          male           Master        66135.0               1   \n",
       "\n",
       "  person_home_ownership  loan_amnt loan_intent  loan_int_rate  \\\n",
       "0                  RENT    35000.0    PERSONAL          16.02   \n",
       "1                   OWN     1000.0   EDUCATION          11.14   \n",
       "2              MORTGAGE     5500.0     MEDICAL          12.87   \n",
       "3                  RENT    35000.0     MEDICAL          15.23   \n",
       "4                  RENT    35000.0     MEDICAL          14.27   \n",
       "\n",
       "   loan_percent_income  cb_person_cred_hist_length  credit_score  \\\n",
       "0                 0.49                         3.0           561   \n",
       "1                 0.08                         2.0           504   \n",
       "2                 0.44                         3.0           635   \n",
       "3                 0.44                         2.0           675   \n",
       "4                 0.53                         4.0           586   \n",
       "\n",
       "  previous_loan_defaults_on_file  loan_status  \n",
       "0                             No            1  \n",
       "1                            Yes            0  \n",
       "2                             No            1  \n",
       "3                             No            1  \n",
       "4                             No            1  "
      ]
     },
     "execution_count": 3,
     "metadata": {},
     "output_type": "execute_result"
    }
   ],
   "source": [
    "# load the data\n",
    "data = pd.read_csv(\"loan_data.csv\")\n",
    "data.head()"
   ]
  },
  {
   "cell_type": "code",
   "execution_count": 4,
   "id": "45210ecc",
   "metadata": {},
   "outputs": [
    {
     "name": "stdout",
     "output_type": "stream",
     "text": [
      "<class 'pandas.core.frame.DataFrame'>\n",
      "RangeIndex: 45000 entries, 0 to 44999\n",
      "Data columns (total 14 columns):\n",
      " #   Column                          Non-Null Count  Dtype  \n",
      "---  ------                          --------------  -----  \n",
      " 0   person_age                      45000 non-null  float64\n",
      " 1   person_gender                   45000 non-null  object \n",
      " 2   person_education                45000 non-null  object \n",
      " 3   person_income                   45000 non-null  float64\n",
      " 4   person_emp_exp                  45000 non-null  int64  \n",
      " 5   person_home_ownership           45000 non-null  object \n",
      " 6   loan_amnt                       45000 non-null  float64\n",
      " 7   loan_intent                     45000 non-null  object \n",
      " 8   loan_int_rate                   45000 non-null  float64\n",
      " 9   loan_percent_income             45000 non-null  float64\n",
      " 10  cb_person_cred_hist_length      45000 non-null  float64\n",
      " 11  credit_score                    45000 non-null  int64  \n",
      " 12  previous_loan_defaults_on_file  45000 non-null  object \n",
      " 13  loan_status                     45000 non-null  int64  \n",
      "dtypes: float64(6), int64(3), object(5)\n",
      "memory usage: 4.8+ MB\n"
     ]
    }
   ],
   "source": [
    "# Get overall info of the data\n",
    "data.info()"
   ]
  },
  {
   "cell_type": "markdown",
   "id": "088dda3a",
   "metadata": {},
   "source": [
    "Data has no missing values"
   ]
  },
  {
   "cell_type": "code",
   "execution_count": 5,
   "id": "25785ccd",
   "metadata": {},
   "outputs": [
    {
     "data": {
      "text/html": [
       "<div>\n",
       "<style scoped>\n",
       "    .dataframe tbody tr th:only-of-type {\n",
       "        vertical-align: middle;\n",
       "    }\n",
       "\n",
       "    .dataframe tbody tr th {\n",
       "        vertical-align: top;\n",
       "    }\n",
       "\n",
       "    .dataframe thead th {\n",
       "        text-align: right;\n",
       "    }\n",
       "</style>\n",
       "<table border=\"1\" class=\"dataframe\">\n",
       "  <thead>\n",
       "    <tr style=\"text-align: right;\">\n",
       "      <th></th>\n",
       "      <th>person_age</th>\n",
       "      <th>person_income</th>\n",
       "      <th>person_emp_exp</th>\n",
       "      <th>loan_amnt</th>\n",
       "      <th>loan_int_rate</th>\n",
       "      <th>loan_percent_income</th>\n",
       "      <th>cb_person_cred_hist_length</th>\n",
       "      <th>credit_score</th>\n",
       "      <th>loan_status</th>\n",
       "    </tr>\n",
       "  </thead>\n",
       "  <tbody>\n",
       "    <tr>\n",
       "      <th>count</th>\n",
       "      <td>45000.000000</td>\n",
       "      <td>4.500000e+04</td>\n",
       "      <td>45000.000000</td>\n",
       "      <td>45000.000000</td>\n",
       "      <td>45000.000000</td>\n",
       "      <td>45000.000000</td>\n",
       "      <td>45000.000000</td>\n",
       "      <td>45000.000000</td>\n",
       "      <td>45000.000000</td>\n",
       "    </tr>\n",
       "    <tr>\n",
       "      <th>mean</th>\n",
       "      <td>27.764178</td>\n",
       "      <td>8.031905e+04</td>\n",
       "      <td>5.410333</td>\n",
       "      <td>9583.157556</td>\n",
       "      <td>11.006606</td>\n",
       "      <td>0.139725</td>\n",
       "      <td>5.867489</td>\n",
       "      <td>632.608756</td>\n",
       "      <td>0.222222</td>\n",
       "    </tr>\n",
       "    <tr>\n",
       "      <th>std</th>\n",
       "      <td>6.045108</td>\n",
       "      <td>8.042250e+04</td>\n",
       "      <td>6.063532</td>\n",
       "      <td>6314.886691</td>\n",
       "      <td>2.978808</td>\n",
       "      <td>0.087212</td>\n",
       "      <td>3.879702</td>\n",
       "      <td>50.435865</td>\n",
       "      <td>0.415744</td>\n",
       "    </tr>\n",
       "    <tr>\n",
       "      <th>min</th>\n",
       "      <td>20.000000</td>\n",
       "      <td>8.000000e+03</td>\n",
       "      <td>0.000000</td>\n",
       "      <td>500.000000</td>\n",
       "      <td>5.420000</td>\n",
       "      <td>0.000000</td>\n",
       "      <td>2.000000</td>\n",
       "      <td>390.000000</td>\n",
       "      <td>0.000000</td>\n",
       "    </tr>\n",
       "    <tr>\n",
       "      <th>25%</th>\n",
       "      <td>24.000000</td>\n",
       "      <td>4.720400e+04</td>\n",
       "      <td>1.000000</td>\n",
       "      <td>5000.000000</td>\n",
       "      <td>8.590000</td>\n",
       "      <td>0.070000</td>\n",
       "      <td>3.000000</td>\n",
       "      <td>601.000000</td>\n",
       "      <td>0.000000</td>\n",
       "    </tr>\n",
       "    <tr>\n",
       "      <th>50%</th>\n",
       "      <td>26.000000</td>\n",
       "      <td>6.704800e+04</td>\n",
       "      <td>4.000000</td>\n",
       "      <td>8000.000000</td>\n",
       "      <td>11.010000</td>\n",
       "      <td>0.120000</td>\n",
       "      <td>4.000000</td>\n",
       "      <td>640.000000</td>\n",
       "      <td>0.000000</td>\n",
       "    </tr>\n",
       "    <tr>\n",
       "      <th>75%</th>\n",
       "      <td>30.000000</td>\n",
       "      <td>9.578925e+04</td>\n",
       "      <td>8.000000</td>\n",
       "      <td>12237.250000</td>\n",
       "      <td>12.990000</td>\n",
       "      <td>0.190000</td>\n",
       "      <td>8.000000</td>\n",
       "      <td>670.000000</td>\n",
       "      <td>0.000000</td>\n",
       "    </tr>\n",
       "    <tr>\n",
       "      <th>max</th>\n",
       "      <td>144.000000</td>\n",
       "      <td>7.200766e+06</td>\n",
       "      <td>125.000000</td>\n",
       "      <td>35000.000000</td>\n",
       "      <td>20.000000</td>\n",
       "      <td>0.660000</td>\n",
       "      <td>30.000000</td>\n",
       "      <td>850.000000</td>\n",
       "      <td>1.000000</td>\n",
       "    </tr>\n",
       "  </tbody>\n",
       "</table>\n",
       "</div>"
      ],
      "text/plain": [
       "         person_age  person_income  person_emp_exp     loan_amnt  \\\n",
       "count  45000.000000   4.500000e+04    45000.000000  45000.000000   \n",
       "mean      27.764178   8.031905e+04        5.410333   9583.157556   \n",
       "std        6.045108   8.042250e+04        6.063532   6314.886691   \n",
       "min       20.000000   8.000000e+03        0.000000    500.000000   \n",
       "25%       24.000000   4.720400e+04        1.000000   5000.000000   \n",
       "50%       26.000000   6.704800e+04        4.000000   8000.000000   \n",
       "75%       30.000000   9.578925e+04        8.000000  12237.250000   \n",
       "max      144.000000   7.200766e+06      125.000000  35000.000000   \n",
       "\n",
       "       loan_int_rate  loan_percent_income  cb_person_cred_hist_length  \\\n",
       "count   45000.000000         45000.000000                45000.000000   \n",
       "mean       11.006606             0.139725                    5.867489   \n",
       "std         2.978808             0.087212                    3.879702   \n",
       "min         5.420000             0.000000                    2.000000   \n",
       "25%         8.590000             0.070000                    3.000000   \n",
       "50%        11.010000             0.120000                    4.000000   \n",
       "75%        12.990000             0.190000                    8.000000   \n",
       "max        20.000000             0.660000                   30.000000   \n",
       "\n",
       "       credit_score   loan_status  \n",
       "count  45000.000000  45000.000000  \n",
       "mean     632.608756      0.222222  \n",
       "std       50.435865      0.415744  \n",
       "min      390.000000      0.000000  \n",
       "25%      601.000000      0.000000  \n",
       "50%      640.000000      0.000000  \n",
       "75%      670.000000      0.000000  \n",
       "max      850.000000      1.000000  "
      ]
     },
     "execution_count": 5,
     "metadata": {},
     "output_type": "execute_result"
    }
   ],
   "source": [
    "# summary statistics of the numerical data\n",
    "data.describe()"
   ]
  },
  {
   "cell_type": "markdown",
   "id": "8356622b",
   "metadata": {},
   "source": [
    "The data max age is 144, this might be an error."
   ]
  },
  {
   "cell_type": "code",
   "execution_count": 6,
   "id": "b02e20a6",
   "metadata": {},
   "outputs": [
    {
     "name": "stdout",
     "output_type": "stream",
     "text": [
      "person_gender: \n",
      "['female' 'male']\n",
      "\n",
      "person_education: \n",
      "['Master' 'High School' 'Bachelor' 'Associate' 'Doctorate']\n",
      "\n",
      "person_home_ownership: \n",
      "['RENT' 'OWN' 'MORTGAGE' 'OTHER']\n",
      "\n",
      "loan_intent: \n",
      "['PERSONAL' 'EDUCATION' 'MEDICAL' 'VENTURE' 'HOMEIMPROVEMENT'\n",
      " 'DEBTCONSOLIDATION']\n",
      "\n",
      "previous_loan_defaults_on_file: \n",
      "['No' 'Yes']\n",
      "\n"
     ]
    }
   ],
   "source": [
    "# filter out categorical columns\n",
    "cat_cols = data.select_dtypes('object')\n",
    "\n",
    "# Identify the unique values of each categorical column\n",
    "for col in cat_cols.columns:\n",
    "    print(f\"{col}: \\n{cat_cols[col].unique()}\\n\")"
   ]
  },
  {
   "cell_type": "markdown",
   "id": "48550c2b",
   "metadata": {},
   "source": [
    "#### 2.3.1 Distribution of Loan Status"
   ]
  },
  {
   "cell_type": "code",
   "execution_count": 7,
   "id": "fbdce163",
   "metadata": {},
   "outputs": [
    {
     "name": "stdout",
     "output_type": "stream",
     "text": [
      "loan_status\n",
      "0    35000\n",
      "1    10000\n",
      "Name: count, dtype: int64 \n",
      "\n",
      "loan_status\n",
      "0    78.0\n",
      "1    22.0\n",
      "Name: proportion, dtype: float64\n"
     ]
    }
   ],
   "source": [
    "# distribution of target variable\n",
    "print(data['loan_status'].value_counts(), '\\n')\n",
    "print(round(data['loan_status'].value_counts(normalize=True)*100))"
   ]
  },
  {
   "cell_type": "code",
   "execution_count": 47,
   "id": "5e38814b",
   "metadata": {},
   "outputs": [
    {
     "data": {
      "text/plain": [
       "Text(0.5, 1.0, 'Loan Status Distribution')"
      ]
     },
     "execution_count": 47,
     "metadata": {},
     "output_type": "execute_result"
    },
    {
     "data": {
      "image/png": "[encoded data removed]",
      "text/plain": [
       "<Figure size 720x432 with 1 Axes>"
      ]
     },
     "metadata": {},
     "output_type": "display_data"
    }
   ],
   "source": [
    "# set grid style\n",
    "sns.set_style(style='darkgrid')\n",
    "\n",
    "# plot the loan status distribution count\n",
    "plt.figure(figsize=(10,6))\n",
    "sns.countplot(data=data, x='loan_status', hue='loan_status', palette=\"colorblind\")\n",
    "plt.title('Loan Status Distribution')"
   ]
  },
  {
   "cell_type": "markdown",
   "id": "c3265f02",
   "metadata": {},
   "source": [
    "The graph above shows the Class imbalance in the target variable"
   ]
  },
  {
   "cell_type": "markdown",
   "id": "e44665e1",
   "metadata": {},
   "source": [
    "#### 2.3.2 Default Rate by Demographics"
   ]
  },
  {
   "cell_type": "code",
   "execution_count": 46,
   "id": "de5c8b62",
   "metadata": {},
   "outputs": [
    {
     "data": {
      "text/html": [
       "<div>\n",
       "<style scoped>\n",
       "    .dataframe tbody tr th:only-of-type {\n",
       "        vertical-align: middle;\n",
       "    }\n",
       "\n",
       "    .dataframe tbody tr th {\n",
       "        vertical-align: top;\n",
       "    }\n",
       "\n",
       "    .dataframe thead th {\n",
       "        text-align: right;\n",
       "    }\n",
       "</style>\n",
       "<table border=\"1\" class=\"dataframe\">\n",
       "  <thead>\n",
       "    <tr style=\"text-align: right;\">\n",
       "      <th></th>\n",
       "      <th>person_gender</th>\n",
       "      <th>loan_status</th>\n",
       "      <th>count</th>\n",
       "      <th>default_rate</th>\n",
       "    </tr>\n",
       "  </thead>\n",
       "  <tbody>\n",
       "    <tr>\n",
       "      <th>1</th>\n",
       "      <td>female</td>\n",
       "      <td>1</td>\n",
       "      <td>4485</td>\n",
       "      <td>0.099667</td>\n",
       "    </tr>\n",
       "    <tr>\n",
       "      <th>3</th>\n",
       "      <td>male</td>\n",
       "      <td>1</td>\n",
       "      <td>5515</td>\n",
       "      <td>0.122556</td>\n",
       "    </tr>\n",
       "  </tbody>\n",
       "</table>\n",
       "</div>"
      ],
      "text/plain": [
       "  person_gender  loan_status  count  default_rate\n",
       "1        female            1   4485      0.099667\n",
       "3          male            1   5515      0.122556"
      ]
     },
     "execution_count": 46,
     "metadata": {},
     "output_type": "execute_result"
    },
    {
     "data": {
      "image/png": "[encoded data removed]",
      "text/plain": [
       "<Figure size 720x432 with 1 Axes>"
      ]
     },
     "metadata": {
      "needs_background": "light"
     },
     "output_type": "display_data"
    }
   ],
   "source": [
    "# Create a bar plot for the distribution\n",
    "age_default_counts = pd.DataFrame(data.groupby('person_gender')['loan_status'].value_counts().reset_index())\n",
    "# age_default_counts\n",
    "\n",
    "plt.figure(figsize=(10,6))\n",
    "sns.barplot(data=age_default_counts, \n",
    "            x='person_gender',\n",
    "            y='count',\n",
    "            hue='loan_status', \n",
    "            palette='colorblind')\n",
    "plt.title('Loan Status by Gender')\n",
    "\n",
    "# Default rate by Gender\n",
    "age_default_counts['default_rate'] = age_default_counts['count']/age_default_counts['count'].sum()\n",
    "age_default_counts[(age_default_counts['loan_status']==1)].sort_values(by='default_rate')"
   ]
  },
  {
   "cell_type": "markdown",
   "id": "48483ec9",
   "metadata": {},
   "source": [
    "Even though, their is class imbalance, from the above output, it can be seen that the distribution of default risk is fairly even between the genders, reducing probability of bias towards a certain gender."
   ]
  },
  {
   "cell_type": "code",
   "execution_count": 44,
   "id": "c95b386d",
   "metadata": {},
   "outputs": [
    {
     "data": {
      "text/html": [
       "<div>\n",
       "<style scoped>\n",
       "    .dataframe tbody tr th:only-of-type {\n",
       "        vertical-align: middle;\n",
       "    }\n",
       "\n",
       "    .dataframe tbody tr th {\n",
       "        vertical-align: top;\n",
       "    }\n",
       "\n",
       "    .dataframe thead th {\n",
       "        text-align: right;\n",
       "    }\n",
       "</style>\n",
       "<table border=\"1\" class=\"dataframe\">\n",
       "  <thead>\n",
       "    <tr style=\"text-align: right;\">\n",
       "      <th></th>\n",
       "      <th>person_education</th>\n",
       "      <th>loan_status</th>\n",
       "      <th>count</th>\n",
       "      <th>default_rate</th>\n",
       "    </tr>\n",
       "  </thead>\n",
       "  <tbody>\n",
       "    <tr>\n",
       "      <th>3</th>\n",
       "      <td>Bachelor</td>\n",
       "      <td>1</td>\n",
       "      <td>3018</td>\n",
       "      <td>0.067067</td>\n",
       "    </tr>\n",
       "    <tr>\n",
       "      <th>7</th>\n",
       "      <td>High School</td>\n",
       "      <td>1</td>\n",
       "      <td>2671</td>\n",
       "      <td>0.059356</td>\n",
       "    </tr>\n",
       "    <tr>\n",
       "      <th>1</th>\n",
       "      <td>Associate</td>\n",
       "      <td>1</td>\n",
       "      <td>2650</td>\n",
       "      <td>0.058889</td>\n",
       "    </tr>\n",
       "    <tr>\n",
       "      <th>9</th>\n",
       "      <td>Master</td>\n",
       "      <td>1</td>\n",
       "      <td>1519</td>\n",
       "      <td>0.033756</td>\n",
       "    </tr>\n",
       "    <tr>\n",
       "      <th>5</th>\n",
       "      <td>Doctorate</td>\n",
       "      <td>1</td>\n",
       "      <td>142</td>\n",
       "      <td>0.003156</td>\n",
       "    </tr>\n",
       "  </tbody>\n",
       "</table>\n",
       "</div>"
      ],
      "text/plain": [
       "  person_education  loan_status  count  default_rate\n",
       "3         Bachelor            1   3018      0.067067\n",
       "7      High School            1   2671      0.059356\n",
       "1        Associate            1   2650      0.058889\n",
       "9           Master            1   1519      0.033756\n",
       "5        Doctorate            1    142      0.003156"
      ]
     },
     "execution_count": 44,
     "metadata": {},
     "output_type": "execute_result"
    },
    {
     "data": {
      "image/png": "[encoded data removed]",
      "text/plain": [
       "<Figure size 720x432 with 1 Axes>"
      ]
     },
     "metadata": {
      "needs_background": "light"
     },
     "output_type": "display_data"
    }
   ],
   "source": [
    "# Create a bar plot for the distribution\n",
    "edu_default_counts = pd.DataFrame(data.groupby('person_education')['loan_status'].value_counts()).reset_index()\n",
    "# edu_default_counts\n",
    "\n",
    "plt.figure(figsize=(10,6))\n",
    "sns.barplot(data=edu_default_counts, \n",
    "            x='person_education', \n",
    "            y='count', \n",
    "            hue='loan_status', \n",
    "            palette='colorblind')\n",
    "plt.title('Loan Status by Education Background')\n",
    "\n",
    "# Default rate by Education level\n",
    "edu_default_counts['default_rate']=edu_default_counts['count']/edu_default_counts['count'].sum()\n",
    "edu_default_counts[edu_default_counts['loan_status']==1].sort_values(by='default_rate', ascending=False)\n"
   ]
  },
  {
   "cell_type": "markdown",
   "id": "80831f67",
   "metadata": {},
   "source": [
    "From the above output, it can be seen that higher education background correlates with stronger repayment capacity."
   ]
  },
  {
   "cell_type": "markdown",
   "id": "bd92b496",
   "metadata": {},
   "source": [
    "#### 2.3.3 Loan Purpose and Risk"
   ]
  },
  {
   "cell_type": "code",
   "execution_count": 45,
   "id": "36525d1a",
   "metadata": {},
   "outputs": [
    {
     "data": {
      "text/html": [
       "<div>\n",
       "<style scoped>\n",
       "    .dataframe tbody tr th:only-of-type {\n",
       "        vertical-align: middle;\n",
       "    }\n",
       "\n",
       "    .dataframe tbody tr th {\n",
       "        vertical-align: top;\n",
       "    }\n",
       "\n",
       "    .dataframe thead th {\n",
       "        text-align: right;\n",
       "    }\n",
       "</style>\n",
       "<table border=\"1\" class=\"dataframe\">\n",
       "  <thead>\n",
       "    <tr style=\"text-align: right;\">\n",
       "      <th></th>\n",
       "      <th>loan_intent</th>\n",
       "      <th>loan_status</th>\n",
       "      <th>count</th>\n",
       "      <th>default_rate</th>\n",
       "    </tr>\n",
       "  </thead>\n",
       "  <tbody>\n",
       "    <tr>\n",
       "      <th>7</th>\n",
       "      <td>MEDICAL</td>\n",
       "      <td>1</td>\n",
       "      <td>2378</td>\n",
       "      <td>0.052844</td>\n",
       "    </tr>\n",
       "    <tr>\n",
       "      <th>1</th>\n",
       "      <td>DEBTCONSOLIDATION</td>\n",
       "      <td>1</td>\n",
       "      <td>2163</td>\n",
       "      <td>0.048067</td>\n",
       "    </tr>\n",
       "    <tr>\n",
       "      <th>3</th>\n",
       "      <td>EDUCATION</td>\n",
       "      <td>1</td>\n",
       "      <td>1552</td>\n",
       "      <td>0.034489</td>\n",
       "    </tr>\n",
       "    <tr>\n",
       "      <th>9</th>\n",
       "      <td>PERSONAL</td>\n",
       "      <td>1</td>\n",
       "      <td>1521</td>\n",
       "      <td>0.033800</td>\n",
       "    </tr>\n",
       "    <tr>\n",
       "      <th>5</th>\n",
       "      <td>HOMEIMPROVEMENT</td>\n",
       "      <td>1</td>\n",
       "      <td>1258</td>\n",
       "      <td>0.027956</td>\n",
       "    </tr>\n",
       "    <tr>\n",
       "      <th>11</th>\n",
       "      <td>VENTURE</td>\n",
       "      <td>1</td>\n",
       "      <td>1128</td>\n",
       "      <td>0.025067</td>\n",
       "    </tr>\n",
       "  </tbody>\n",
       "</table>\n",
       "</div>"
      ],
      "text/plain": [
       "          loan_intent  loan_status  count  default_rate\n",
       "7             MEDICAL            1   2378      0.052844\n",
       "1   DEBTCONSOLIDATION            1   2163      0.048067\n",
       "3           EDUCATION            1   1552      0.034489\n",
       "9            PERSONAL            1   1521      0.033800\n",
       "5     HOMEIMPROVEMENT            1   1258      0.027956\n",
       "11            VENTURE            1   1128      0.025067"
      ]
     },
     "execution_count": 45,
     "metadata": {},
     "output_type": "execute_result"
    },
    {
     "data": {
      "image/png": "[encoded data removed]",
      "text/plain": [
       "<Figure size 720x432 with 1 Axes>"
      ]
     },
     "metadata": {
      "needs_background": "light"
     },
     "output_type": "display_data"
    }
   ],
   "source": [
    "# Default rate by purpose\n",
    "intent_default_count = pd.DataFrame(data.groupby('loan_intent')['loan_status'].value_counts()).reset_index()\n",
    "# intent_default_count\n",
    "\n",
    "# plot the default distribution\n",
    "plt.figure(figsize=(10,6))\n",
    "sns.barplot(data=intent_default_count, \n",
    "            x='loan_intent',\n",
    "            y= 'count',\n",
    "            hue='loan_status',\n",
    "            palette='colorblind')\n",
    "plt.title('Loan Status by Loan Purpose')\n",
    "\n",
    "intent_default_count['default_rate'] = intent_default_count['count']/intent_default_count['count'].sum()\n",
    "intent_default_count[intent_default_count['loan_status']==1].sort_values(by='default_rate', ascending=False)\n"
   ]
  },
  {
   "cell_type": "markdown",
   "id": "db7115e4",
   "metadata": {},
   "source": [
    "Medical loans have the highest default rates."
   ]
  },
  {
   "cell_type": "code",
   "execution_count": 48,
   "id": "1a8f20c6",
   "metadata": {},
   "outputs": [
    {
     "data": {
      "text/plain": [
       "Text(0.5, 1.0, 'Age Distribution by Loan Status')"
      ]
     },
     "execution_count": 48,
     "metadata": {},
     "output_type": "execute_result"
    },
    {
     "data": {
      "image/png": "[encoded data removed]",
      "text/plain": [
       "<Figure size 720x432 with 1 Axes>"
      ]
     },
     "metadata": {},
     "output_type": "display_data"
    }
   ],
   "source": [
    "# Default by Age\n",
    "plt.figure(figsize=(10,6))\n",
    "sns.boxplot(data=data, x='loan_status', \n",
    "            y='person_age', \n",
    "            hue='loan_status', \n",
    "            palette='colorblind')\n",
    "plt.title('Age Distribution by Loan Status')"
   ]
  },
  {
   "cell_type": "markdown",
   "id": "5640097d",
   "metadata": {},
   "source": [
    "Young borrowers tend to have high default rate"
   ]
  },
  {
   "cell_type": "markdown",
   "id": "a7217ee6",
   "metadata": {},
   "source": [
    "#### 2.3.4 Interest Rate vs Default"
   ]
  },
  {
   "cell_type": "code",
   "execution_count": null,
   "id": "9d6f904f",
   "metadata": {},
   "outputs": [
    {
     "data": {
      "text/plain": [
       "0.332004647415078"
      ]
     },
     "execution_count": 31,
     "metadata": {},
     "output_type": "execute_result"
    }
   ],
   "source": [
    "# Correlation between loan status and interest rate\n",
    "data['loan_int_rate'].corr(data['loan_status'])"
   ]
  },
  {
   "cell_type": "code",
   "execution_count": 49,
   "id": "f2c41d1e",
   "metadata": {},
   "outputs": [
    {
     "data": {
      "text/plain": [
       "Text(0.5, 1.0, 'Interest Rate by Loan Status')"
      ]
     },
     "execution_count": 49,
     "metadata": {},
     "output_type": "execute_result"
    },
    {
     "data": {
      "image/png": "[encoded data removed]",
      "text/plain": [
       "<Figure size 720x432 with 1 Axes>"
      ]
     },
     "metadata": {},
     "output_type": "display_data"
    }
   ],
   "source": [
    "# Interest rate and default\n",
    "plt.figure(figsize=(10,6))\n",
    "sns.boxplot(data=data, \n",
    "            x='loan_status', \n",
    "            y='loan_int_rate',\n",
    "            hue='loan_status',\n",
    "            palette='colorblind')\n",
    "plt.title('Interest Rate by Loan Status')\n"
   ]
  },
  {
   "cell_type": "markdown",
   "id": "6b8f75c0",
   "metadata": {},
   "source": [
    "From the above output, it can be seemn that higher interest rates are assigned to borrowers with high risk of default."
   ]
  },
  {
   "cell_type": "code",
   "execution_count": 50,
   "id": "e0a3c2d0",
   "metadata": {},
   "outputs": [
    {
     "data": {
      "text/plain": [
       "Text(0.5, 1.0, 'Feature Correlation Heatmap')"
      ]
     },
     "execution_count": 50,
     "metadata": {},
     "output_type": "execute_result"
    },
    {
     "data": {
      "image/png": "[encoded data removed]",
      "text/plain": [
       "<Figure size 720x432 with 2 Axes>"
      ]
     },
     "metadata": {},
     "output_type": "display_data"
    }
   ],
   "source": [
    "num_cols = data.select_dtypes('number')\n",
    "\n",
    "# Numerical Features Correlation\n",
    "plt.figure(figsize=(10, 6))\n",
    "sns.heatmap(num_cols.corr(), cmap='coolwarm', annot=True)\n",
    "plt.title('Feature Correlation Heatmap')\n"
   ]
  },
  {
   "cell_type": "markdown",
   "id": "56611ecb",
   "metadata": {},
   "source": [
    "Key insights from the above output:\n",
    "- Loan amount, interest rate and percentage of income show some relationship with loan_status.\n",
    "- There exists strong multicollinearity between age, employment experience, and credit history length.\n",
    "- Credit score appears relatively independent of other factors in this dataset."
   ]
  },
  {
   "cell_type": "code",
   "execution_count": 51,
   "id": "49380ac4",
   "metadata": {},
   "outputs": [],
   "source": [
    "# # Analyze the distributions of the features against each feature\n",
    "# plt.figure(figsize=(10,6))\n",
    "# sns.pairplot(data=data, corner=True, hue='loan_status')"
   ]
  },
  {
   "cell_type": "markdown",
   "id": "8228e163",
   "metadata": {},
   "source": [
    "## **3.0 Data Preparation**"
   ]
  },
  {
   "cell_type": "markdown",
   "id": "1318cc2b",
   "metadata": {},
   "source": []
  }
 ],
 "metadata": {
  "kernelspec": {
   "display_name": "learn-env",
   "language": "python",
   "name": "python3"
  },
  "language_info": {
   "codemirror_mode": {
    "name": "ipython",
    "version": 3
   },
   "file_extension": ".py",
   "mimetype": "text/x-python",
   "name": "python",
   "nbconvert_exporter": "python",
   "pygments_lexer": "ipython3",
   "version": "3.8.5"
  }
 },
 "nbformat": 4,
 "nbformat_minor": 5
}
